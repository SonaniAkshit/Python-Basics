{
 "cells": [
  {
   "cell_type": "markdown",
   "id": "6212040d-94d5-476d-b14a-a142d81c0ed5",
   "metadata": {},
   "source": [
    "***Introducing Python***\n",
    "<ul>\n",
    "    <li style=\"list-style-type: none;\">\n",
    "        <span style=\"color: red;\">➤</span>Python is a high-level, general-purpose, and very popular programing language.\n",
    "    </li>\n",
    "    <li style=\"list-style-type: none;\">\n",
    "        <span style=\"color: red;\">➤</span>It is being used in Web Developmet, Machine Learning applications, etc. \n",
    "    </li>\n",
    "    <li style=\"list-style-type: none;\">\n",
    "        <span style=\"color: red;\">➤</span>Python Programs are generally smaller than the other programimg languages.\n",
    "    </li>\n",
    "    <li style=\"list-style-type: none;\">\n",
    "        <span style=\"color: red;\">➤</span>Programmers have to type relatively less and the indentation requirement of the language, makes there readable at the time. \n",
    "    </li><br>\n",
    "    <li style=\"list-style-type: none;\">\n",
    "        <span style=\"color: red;\">📌</span>Very simple syntax & easy to learn. \n",
    "    </li>\n",
    "</ul>"
   ]
  },
  {
   "cell_type": "code",
   "execution_count": 1,
   "id": "c488c141-2d0c-45a6-b7ce-4b971f63955c",
   "metadata": {},
   "outputs": [
    {
     "name": "stdout",
     "output_type": "stream",
     "text": [
      "Hello World !!\n"
     ]
    }
   ],
   "source": [
    "print(\"Hello World !!\")"
   ]
  },
  {
   "cell_type": "code",
   "execution_count": 2,
   "id": "e603d8c4-68b7-4405-8de8-e3c28f198a39",
   "metadata": {},
   "outputs": [],
   "source": [
    "import numpy as np"
   ]
  },
  {
   "cell_type": "code",
   "execution_count": 13,
   "id": "fac08d7b-e167-4dae-bc32-d0399c6a8e96",
   "metadata": {},
   "outputs": [
    {
     "name": "stdout",
     "output_type": "stream",
     "text": [
      "Array with Rank 1: \n",
      " [11 21 31]\n",
      "Array with Rank 2: \n",
      " [[1 2 3]\n",
      " [4 5 6]\n",
      " [7 8 9]]\n",
      "\n",
      "Array created using passed tuple:\n",
      " [1 3 2]\n"
     ]
    }
   ],
   "source": [
    "arr = np.array([11, 21, 31])\n",
    "print(\"Array with Rank 1: \\n\",arr)\n",
    "\n",
    "arr = np.array([[1, 2, 3],\n",
    "                [4, 5, 6],\n",
    "                [7, 8, 9]])\n",
    "print(\"Array with Rank 2: \\n\", arr)\n",
    "arr = np.array((1, 3, 2))\n",
    "print(\"\\nArray created using \"\n",
    "      \"passed tuple:\\n\", arr)"
   ]
  },
  {
   "cell_type": "code",
   "execution_count": null,
   "id": "e4e23d73-b739-4e46-8ea6-0a42eab788b1",
   "metadata": {},
   "outputs": [],
   "source": []
  }
 ],
 "metadata": {
  "kernelspec": {
   "display_name": "Python 3 (ipykernel)",
   "language": "python",
   "name": "python3"
  },
  "language_info": {
   "codemirror_mode": {
    "name": "ipython",
    "version": 3
   },
   "file_extension": ".py",
   "mimetype": "text/x-python",
   "name": "python",
   "nbconvert_exporter": "python",
   "pygments_lexer": "ipython3",
   "version": "3.12.5"
  }
 },
 "nbformat": 4,
 "nbformat_minor": 5
}
