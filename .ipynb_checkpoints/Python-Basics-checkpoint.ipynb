{
 "cells": [
  {
   "cell_type": "markdown",
   "id": "6212040d-94d5-476d-b14a-a142d81c0ed5",
   "metadata": {},
   "source": [
    "***Introducing Python***\n",
    "<ul>\n",
    "    <li style=\"list-style-type: none;\">\n",
    "        <span style=\"color: red;\">➤</span>Python is a high-level, general-purpose, and very popular programing language.\n",
    "    </li>\n",
    "    <li style=\"list-style-type: none;\">\n",
    "        <span style=\"color: red;\">➤</span>Python is a high-level, general-purpose, and very popular programing language.\n",
    "    </li>\n",
    "</ul>"
   ]
  },
  {
   "cell_type": "code",
   "execution_count": null,
   "id": "c488c141-2d0c-45a6-b7ce-4b971f63955c",
   "metadata": {},
   "outputs": [],
   "source": []
  }
 ],
 "metadata": {
  "kernelspec": {
   "display_name": "Python 3 (ipykernel)",
   "language": "python",
   "name": "python3"
  },
  "language_info": {
   "codemirror_mode": {
    "name": "ipython",
    "version": 3
   },
   "file_extension": ".py",
   "mimetype": "text/x-python",
   "name": "python",
   "nbconvert_exporter": "python",
   "pygments_lexer": "ipython3",
   "version": "3.12.5"
  }
 },
 "nbformat": 4,
 "nbformat_minor": 5
}
