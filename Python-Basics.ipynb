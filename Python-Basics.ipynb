{
 "cells": [
  {
   "cell_type": "markdown",
   "id": "6212040d-94d5-476d-b14a-a142d81c0ed5",
   "metadata": {},
   "source": [
    "***Introducing Python***\n",
    "<ul>\n",
    "    <li style=\"list-style-type: none;\">\n",
    "        <span style=\"color: red;\">➤</span>Python is a high-level, general-purpose, and very popular programing language.\n",
    "    </li>\n",
    "    <li style=\"list-style-type: none;\">\n",
    "        <span style=\"color: red;\">➤</span>It is being used in Web Developmet, Machine Learning applications, etc. \n",
    "    </li>\n",
    "    <li style=\"list-style-type: none;\">\n",
    "        <span style=\"color: red;\">➤</span>Python Programs are generally smaller than the other programimg languages.\n",
    "    </li>\n",
    "    <li style=\"list-style-type: none;\">\n",
    "        <span style=\"color: red;\">➤</span>Programmers have to type relatively less and the indentation requirement of the language, makes there readable at the time. \n",
    "    </li>\n",
    "    <li style=\"list-style-type: none;\">\n",
    "        <span style=\"color: red;\">➤</span>Very simple syntax & easy to learn. \n",
    "    </li>\n",
    "</ul>"
   ]
  },
  {
   "cell_type": "code",
   "execution_count": 1,
   "id": "c488c141-2d0c-45a6-b7ce-4b971f63955c",
   "metadata": {},
   "outputs": [
    {
     "name": "stdout",
     "output_type": "stream",
     "text": [
      "Hello World !!\n"
     ]
    }
   ],
   "source": [
    "print(\"Hello World !!\")"
   ]
  },
  {
   "cell_type": "code",
   "execution_count": 2,
   "id": "e603d8c4-68b7-4405-8de8-e3c28f198a39",
   "metadata": {},
   "outputs": [
    {
     "ename": "ModuleNotFoundError",
     "evalue": "No module named 'numpy'",
     "output_type": "error",
     "traceback": [
      "\u001b[1;31m---------------------------------------------------------------------------\u001b[0m",
      "\u001b[1;31mModuleNotFoundError\u001b[0m                       Traceback (most recent call last)",
      "Cell \u001b[1;32mIn[2], line 1\u001b[0m\n\u001b[1;32m----> 1\u001b[0m \u001b[38;5;28;01mimport\u001b[39;00m \u001b[38;5;21;01mnumpy\u001b[39;00m \u001b[38;5;28;01mas\u001b[39;00m \u001b[38;5;21;01mnp\u001b[39;00m\n",
      "\u001b[1;31mModuleNotFoundError\u001b[0m: No module named 'numpy'"
     ]
    }
   ],
   "source": [
    "import numpy as np"
   ]
  },
  {
   "cell_type": "code",
   "execution_count": null,
   "id": "fac08d7b-e167-4dae-bc32-d0399c6a8e96",
   "metadata": {},
   "outputs": [],
   "source": []
  }
 ],
 "metadata": {
  "kernelspec": {
   "display_name": "Python 3 (ipykernel)",
   "language": "python",
   "name": "python3"
  },
  "language_info": {
   "codemirror_mode": {
    "name": "ipython",
    "version": 3
   },
   "file_extension": ".py",
   "mimetype": "text/x-python",
   "name": "python",
   "nbconvert_exporter": "python",
   "pygments_lexer": "ipython3",
   "version": "3.12.5"
  }
 },
 "nbformat": 4,
 "nbformat_minor": 5
}
