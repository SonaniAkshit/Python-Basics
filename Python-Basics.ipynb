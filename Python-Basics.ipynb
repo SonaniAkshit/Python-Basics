{
 "cells": [
  {
   "cell_type": "markdown",
   "id": "6212040d-94d5-476d-b14a-a142d81c0ed5",
   "metadata": {},
   "source": [
    "***Introducing Python***\n",
    "<ul>\n",
    "    <li style=\"list-style-type: none;\">\n",
    "        <span style=\"color: red;\">✔</span>Python is a high-level, general-purpose, and very popular programing language.\n",
    "    </li>\n",
    "    <li style=\"list-style-type: none;\">\n",
    "        <span style=\"color: red;\">✔</span>It is being used in Web Developmet, Machine Learning applications, etc. \n",
    "    </li>\n",
    "    <li style=\"list-style-type: none;\">\n",
    "        <span style=\"color: red;\">✔</span>Python Programs are generally smaller than the other programimg languages.\n",
    "    </li>\n",
    "    <li style=\"list-style-type: none;\">\n",
    "        <span style=\"color: red;\">✔</span>Programmers have to type relatively less and the indentation requirement of the language, makes there readable at the time. \n",
    "    </li><br>\n",
    "    <li style=\"list-style-type: none;\">\n",
    "        <span style=\"color: red;\">📌</span>Very simple syntax & easy to learn. \n",
    "    </li>\n",
    "</ul>"
   ]
  },
  {
   "cell_type": "code",
   "execution_count": 1,
   "id": "c488c141-2d0c-45a6-b7ce-4b971f63955c",
   "metadata": {},
   "outputs": [
    {
     "name": "stdout",
     "output_type": "stream",
     "text": [
      "Hello World !!\n"
     ]
    }
   ],
   "source": [
    "print(\"Hello World !!\")"
   ]
  },
  {
   "cell_type": "markdown",
   "id": "f2e7b48b-d793-423f-8872-66f7be12fdc8",
   "metadata": {},
   "source": [
    "***General Purpose Language*** (Simple yet very powerful language)\n",
    "<ul>\n",
    "    <li style=\"list-style-type: none;\">\n",
    "        <span style=\"color: red;\">✔</span>Consol Application & Scripts\n",
    "    </li>\n",
    "    <li style=\"list-style-type: none;\">\n",
    "        <span style=\"color: red;\">✔</span>Desktop Application\n",
    "    </li>\n",
    "    <li style=\"list-style-type: none;\">\n",
    "        <span style=\"color: red;\">✔</span>Web Application\n",
    "    </li>\n",
    "    <li style=\"list-style-type: none;\">\n",
    "        <span style=\"color: red;\">✔</span>Game Development\n",
    "    </li>\n",
    "    <li style=\"list-style-type: none;\">\n",
    "        <span style=\"color: red;\">✔</span>Machine Learning, Deep Learning, AI, Big Data, Data Science, etc.\n",
    "    </li>\n",
    "</ul>\n",
    "\n",
    "***Multiparadigm Support***\n",
    "<ul>\n",
    "    <li style=\"list-style-type: none;\">\n",
    "        <span style=\"color: red;\">✔</span>Procedural style programing like c.\n",
    "    </li>\n",
    "    <li style=\"list-style-type: none;\">\n",
    "        <span style=\"color: red;\">✔</span>Oops like java.\n",
    "    </li>\n",
    "    <li style=\"list-style-type: none;\">\n",
    "        <span style=\"color: red;\">✔</span>Functional programing like list.\n",
    "    </li>\n",
    "</ul>\n",
    "\n",
    "***Portable or platform independent***\n",
    "<ul>\n",
    "    <li style=\"list-style-type: none;\">\n",
    "        <span style=\"color: red;\">✔</span>Programs are typically first compiled into an intermediate code, then the code is run by the interpreter.\n",
    "    </li>\n",
    "</ul>\n",
    "\n",
    "***📌Dynamically Typed***"
   ]
  },
  {
   "cell_type": "code",
   "execution_count": 4,
   "id": "fac08d7b-e167-4dae-bc32-d0399c6a8e96",
   "metadata": {},
   "outputs": [
    {
     "name": "stdout",
     "output_type": "stream",
     "text": [
      "python\n"
     ]
    }
   ],
   "source": [
    "x = 10\n",
    "y = \"java\"\n",
    "x = \"python\"\n",
    "print(x)"
   ]
  },
  {
   "cell_type": "markdown",
   "id": "ddcac0cc-1f77-4f95-ba2a-c4283190c9d0",
   "metadata": {},
   "source": [
    "<ul>\n",
    "    <li style=\"list-style-type: none;\">\n",
    "        <span style=\"color: red;\">✔</span>This feature is different from c++ & java they are statically typed.\n",
    "    </li>\n",
    "    <li style=\"list-style-type: none;\">\n",
    "        <span style=\"color: red;\">✔</span>In python we don't have to specify the variable name.\n",
    "    </li>\n",
    "    <li style=\"list-style-type: none;\">\n",
    "        <span style=\"color: red;\">✔</span>But the disadvantage is in this the type is assigned in the run time of the program, so there are more chances of run time error.\n",
    "    </li>\n",
    "</ul>"
   ]
  },
  {
   "cell_type": "code",
   "execution_count": null,
   "id": "c2782c49-9543-445b-b7af-a0f7543f93b5",
   "metadata": {},
   "outputs": [],
   "source": []
  }
 ],
 "metadata": {
  "kernelspec": {
   "display_name": "Python 3 (ipykernel)",
   "language": "python",
   "name": "python3"
  },
  "language_info": {
   "codemirror_mode": {
    "name": "ipython",
    "version": 3
   },
   "file_extension": ".py",
   "mimetype": "text/x-python",
   "name": "python",
   "nbconvert_exporter": "python",
   "pygments_lexer": "ipython3",
   "version": "3.12.5"
  }
 },
 "nbformat": 4,
 "nbformat_minor": 5
}
